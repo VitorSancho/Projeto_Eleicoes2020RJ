{
  "nbformat": 4,
  "nbformat_minor": 0,
  "metadata": {
    "colab": {
      "name": "Estudo - Eleições 2020i.ipynb",
      "provenance": [],
      "collapsed_sections": [
        "rYaz9h0-rt9V",
        "0e4Xz7hjpJtz"
      ],
      "toc_visible": true,
      "authorship_tag": "ABX9TyMHyOsQ1sstk1Wm8NBSlJvu",
      "include_colab_link": true
    },
    "kernelspec": {
      "name": "python3",
      "display_name": "Python 3"
    }
  },
  "cells": [
    {
      "cell_type": "markdown",
      "metadata": {
        "id": "view-in-github",
        "colab_type": "text"
      },
      "source": [
        "<a href=\"https://colab.research.google.com/github/VitorSancho/Projeto_Eleicoes2020RJ/blob/main/Estudo_Elei%C3%A7%C3%B5es_2020i.ipynb\" target=\"_parent\"><img src=\"https://colab.research.google.com/assets/colab-badge.svg\" alt=\"Open In Colab\"/></a>"
      ]
    },
    {
      "cell_type": "markdown",
      "metadata": {
        "id": "Yn3BpBWksj03"
      },
      "source": [
        "# Eleições 2020 - Análise do município de Rio de Janeiro "
      ]
    },
    {
      "cell_type": "markdown",
      "metadata": {
        "id": "_OXcYmE4s3fn"
      },
      "source": [
        "## Imports"
      ]
    },
    {
      "cell_type": "code",
      "metadata": {
        "id": "ZvyJI59kRxAJ"
      },
      "source": [
        "import pandas as pd\n",
        "import seaborn as sns\n",
        "import matplotlib.pyplot as plt\n",
        "import matplotlib.ticker as ticker\n",
        "\n"
      ],
      "execution_count": null,
      "outputs": []
    },
    {
      "cell_type": "code",
      "metadata": {
        "id": "FDwWA7UZiKDQ"
      },
      "source": [
        "# Funções\n",
        "\n",
        "\n",
        "# A função abaixo foi copiada dos códigos do Luis Moneda: https://www.kaggle.com/lgmoneda/reported-assets-by-party\n",
        "\n",
        "# Formatando o Valor dos bens para o modelo R$ ####,##\n",
        "def human_format(num, pos):\n",
        "    num = float('{:.3g}'.format(num))\n",
        "    magnitude = 0\n",
        "    while abs(num) >= 1000:\n",
        "        magnitude += 1\n",
        "        num /= 1000.0\n",
        "    return 'R${}{}'.format('{:f}'.format(num).rstrip('0').rstrip('.'), ['', 'K', 'M', 'B', 'T'][magnitude])"
      ],
      "execution_count": null,
      "outputs": []
    },
    {
      "cell_type": "code",
      "metadata": {
        "id": "8COHB5rNRzJF",
        "colab": {
          "base_uri": "https://localhost:8080/",
          "height": 615
        },
        "outputId": "8a2e2fe6-0f8f-4135-e53a-100ec073354a"
      },
      "source": [
        "from google.colab import drive\n",
        "drive.mount('/content/drive')"
      ],
      "execution_count": null,
      "outputs": [
        {
          "output_type": "stream",
          "text": [
            "Go to this URL in a browser: https://accounts.google.com/o/oauth2/auth?client_id=947318989803-6bn6qk8qdgf4n4g3pfee6491hc0brc4i.apps.googleusercontent.com&redirect_uri=urn%3aietf%3awg%3aoauth%3a2.0%3aoob&scope=email%20https%3a%2f%2fwww.googleapis.com%2fauth%2fdocs.test%20https%3a%2f%2fwww.googleapis.com%2fauth%2fdrive%20https%3a%2f%2fwww.googleapis.com%2fauth%2fdrive.photos.readonly%20https%3a%2f%2fwww.googleapis.com%2fauth%2fpeopleapi.readonly&response_type=code\n",
            "\n",
            "Enter your authorization code:\n",
            "4/5wHDr44dkKvc1NgKk5JaSsxILdXRjpIlzhsGY3F2wJUt9utbYslCgfs\n"
          ],
          "name": "stdout"
        },
        {
          "output_type": "error",
          "ename": "KeyboardInterrupt",
          "evalue": "ignored",
          "traceback": [
            "\u001b[0;31m---------------------------------------------------------------------------\u001b[0m",
            "\u001b[0;31mKeyboardInterrupt\u001b[0m                         Traceback (most recent call last)",
            "\u001b[0;32m/usr/local/lib/python3.6/dist-packages/ipykernel/kernelbase.py\u001b[0m in \u001b[0;36m_input_request\u001b[0;34m(self, prompt, ident, parent, password)\u001b[0m\n\u001b[1;32m    728\u001b[0m             \u001b[0;32mtry\u001b[0m\u001b[0;34m:\u001b[0m\u001b[0;34m\u001b[0m\u001b[0;34m\u001b[0m\u001b[0m\n\u001b[0;32m--> 729\u001b[0;31m                 \u001b[0mident\u001b[0m\u001b[0;34m,\u001b[0m \u001b[0mreply\u001b[0m \u001b[0;34m=\u001b[0m \u001b[0mself\u001b[0m\u001b[0;34m.\u001b[0m\u001b[0msession\u001b[0m\u001b[0;34m.\u001b[0m\u001b[0mrecv\u001b[0m\u001b[0;34m(\u001b[0m\u001b[0mself\u001b[0m\u001b[0;34m.\u001b[0m\u001b[0mstdin_socket\u001b[0m\u001b[0;34m,\u001b[0m \u001b[0;36m0\u001b[0m\u001b[0;34m)\u001b[0m\u001b[0;34m\u001b[0m\u001b[0;34m\u001b[0m\u001b[0m\n\u001b[0m\u001b[1;32m    730\u001b[0m             \u001b[0;32mexcept\u001b[0m \u001b[0mException\u001b[0m\u001b[0;34m:\u001b[0m\u001b[0;34m\u001b[0m\u001b[0;34m\u001b[0m\u001b[0m\n",
            "\u001b[0;32m/usr/local/lib/python3.6/dist-packages/jupyter_client/session.py\u001b[0m in \u001b[0;36mrecv\u001b[0;34m(self, socket, mode, content, copy)\u001b[0m\n\u001b[1;32m    802\u001b[0m         \u001b[0;32mtry\u001b[0m\u001b[0;34m:\u001b[0m\u001b[0;34m\u001b[0m\u001b[0;34m\u001b[0m\u001b[0m\n\u001b[0;32m--> 803\u001b[0;31m             \u001b[0mmsg_list\u001b[0m \u001b[0;34m=\u001b[0m \u001b[0msocket\u001b[0m\u001b[0;34m.\u001b[0m\u001b[0mrecv_multipart\u001b[0m\u001b[0;34m(\u001b[0m\u001b[0mmode\u001b[0m\u001b[0;34m,\u001b[0m \u001b[0mcopy\u001b[0m\u001b[0;34m=\u001b[0m\u001b[0mcopy\u001b[0m\u001b[0;34m)\u001b[0m\u001b[0;34m\u001b[0m\u001b[0;34m\u001b[0m\u001b[0m\n\u001b[0m\u001b[1;32m    804\u001b[0m         \u001b[0;32mexcept\u001b[0m \u001b[0mzmq\u001b[0m\u001b[0;34m.\u001b[0m\u001b[0mZMQError\u001b[0m \u001b[0;32mas\u001b[0m \u001b[0me\u001b[0m\u001b[0;34m:\u001b[0m\u001b[0;34m\u001b[0m\u001b[0;34m\u001b[0m\u001b[0m\n",
            "\u001b[0;32m/usr/local/lib/python3.6/dist-packages/zmq/sugar/socket.py\u001b[0m in \u001b[0;36mrecv_multipart\u001b[0;34m(self, flags, copy, track)\u001b[0m\n\u001b[1;32m    490\u001b[0m         \"\"\"\n\u001b[0;32m--> 491\u001b[0;31m         \u001b[0mparts\u001b[0m \u001b[0;34m=\u001b[0m \u001b[0;34m[\u001b[0m\u001b[0mself\u001b[0m\u001b[0;34m.\u001b[0m\u001b[0mrecv\u001b[0m\u001b[0;34m(\u001b[0m\u001b[0mflags\u001b[0m\u001b[0;34m,\u001b[0m \u001b[0mcopy\u001b[0m\u001b[0;34m=\u001b[0m\u001b[0mcopy\u001b[0m\u001b[0;34m,\u001b[0m \u001b[0mtrack\u001b[0m\u001b[0;34m=\u001b[0m\u001b[0mtrack\u001b[0m\u001b[0;34m)\u001b[0m\u001b[0;34m]\u001b[0m\u001b[0;34m\u001b[0m\u001b[0;34m\u001b[0m\u001b[0m\n\u001b[0m\u001b[1;32m    492\u001b[0m         \u001b[0;31m# have first part already, only loop while more to receive\u001b[0m\u001b[0;34m\u001b[0m\u001b[0;34m\u001b[0m\u001b[0;34m\u001b[0m\u001b[0m\n",
            "\u001b[0;32mzmq/backend/cython/socket.pyx\u001b[0m in \u001b[0;36mzmq.backend.cython.socket.Socket.recv\u001b[0;34m()\u001b[0m\n",
            "\u001b[0;32mzmq/backend/cython/socket.pyx\u001b[0m in \u001b[0;36mzmq.backend.cython.socket.Socket.recv\u001b[0;34m()\u001b[0m\n",
            "\u001b[0;32mzmq/backend/cython/socket.pyx\u001b[0m in \u001b[0;36mzmq.backend.cython.socket._recv_copy\u001b[0;34m()\u001b[0m\n",
            "\u001b[0;32m/usr/local/lib/python3.6/dist-packages/zmq/backend/cython/checkrc.pxd\u001b[0m in \u001b[0;36mzmq.backend.cython.checkrc._check_rc\u001b[0;34m()\u001b[0m\n",
            "\u001b[0;31mKeyboardInterrupt\u001b[0m: ",
            "\nDuring handling of the above exception, another exception occurred:\n",
            "\u001b[0;31mKeyboardInterrupt\u001b[0m                         Traceback (most recent call last)",
            "\u001b[0;32m<ipython-input-4-d5df0069828e>\u001b[0m in \u001b[0;36m<module>\u001b[0;34m()\u001b[0m\n\u001b[1;32m      1\u001b[0m \u001b[0;32mfrom\u001b[0m \u001b[0mgoogle\u001b[0m\u001b[0;34m.\u001b[0m\u001b[0mcolab\u001b[0m \u001b[0;32mimport\u001b[0m \u001b[0mdrive\u001b[0m\u001b[0;34m\u001b[0m\u001b[0;34m\u001b[0m\u001b[0m\n\u001b[0;32m----> 2\u001b[0;31m \u001b[0mdrive\u001b[0m\u001b[0;34m.\u001b[0m\u001b[0mmount\u001b[0m\u001b[0;34m(\u001b[0m\u001b[0;34m'/content/drive'\u001b[0m\u001b[0;34m)\u001b[0m\u001b[0;34m\u001b[0m\u001b[0;34m\u001b[0m\u001b[0m\n\u001b[0m",
            "\u001b[0;32m/usr/local/lib/python3.6/dist-packages/google/colab/drive.py\u001b[0m in \u001b[0;36mmount\u001b[0;34m(mountpoint, force_remount, timeout_ms, use_metadata_server)\u001b[0m\n\u001b[1;32m    251\u001b[0m       \u001b[0;32mwith\u001b[0m \u001b[0m_output\u001b[0m\u001b[0;34m.\u001b[0m\u001b[0muse_tags\u001b[0m\u001b[0;34m(\u001b[0m\u001b[0;34m'dfs-auth-dance'\u001b[0m\u001b[0;34m)\u001b[0m\u001b[0;34m:\u001b[0m\u001b[0;34m\u001b[0m\u001b[0;34m\u001b[0m\u001b[0m\n\u001b[1;32m    252\u001b[0m         \u001b[0;32mwith\u001b[0m \u001b[0mopen\u001b[0m\u001b[0;34m(\u001b[0m\u001b[0mfifo\u001b[0m\u001b[0;34m,\u001b[0m \u001b[0;34m'w'\u001b[0m\u001b[0;34m)\u001b[0m \u001b[0;32mas\u001b[0m \u001b[0mfifo_file\u001b[0m\u001b[0;34m:\u001b[0m\u001b[0;34m\u001b[0m\u001b[0;34m\u001b[0m\u001b[0m\n\u001b[0;32m--> 253\u001b[0;31m           \u001b[0mfifo_file\u001b[0m\u001b[0;34m.\u001b[0m\u001b[0mwrite\u001b[0m\u001b[0;34m(\u001b[0m\u001b[0mget_code\u001b[0m\u001b[0;34m(\u001b[0m\u001b[0mauth_prompt\u001b[0m\u001b[0;34m)\u001b[0m \u001b[0;34m+\u001b[0m \u001b[0;34m'\\n'\u001b[0m\u001b[0;34m)\u001b[0m\u001b[0;34m\u001b[0m\u001b[0;34m\u001b[0m\u001b[0m\n\u001b[0m\u001b[1;32m    254\u001b[0m       \u001b[0mwrote_to_fifo\u001b[0m \u001b[0;34m=\u001b[0m \u001b[0;32mTrue\u001b[0m\u001b[0;34m\u001b[0m\u001b[0;34m\u001b[0m\u001b[0m\n\u001b[1;32m    255\u001b[0m     \u001b[0;32melif\u001b[0m \u001b[0mcase\u001b[0m \u001b[0;34m==\u001b[0m \u001b[0;36m5\u001b[0m\u001b[0;34m:\u001b[0m\u001b[0;34m\u001b[0m\u001b[0;34m\u001b[0m\u001b[0m\n",
            "\u001b[0;32m/usr/local/lib/python3.6/dist-packages/ipykernel/kernelbase.py\u001b[0m in \u001b[0;36mraw_input\u001b[0;34m(self, prompt)\u001b[0m\n\u001b[1;32m    702\u001b[0m             \u001b[0mself\u001b[0m\u001b[0;34m.\u001b[0m\u001b[0m_parent_ident\u001b[0m\u001b[0;34m,\u001b[0m\u001b[0;34m\u001b[0m\u001b[0;34m\u001b[0m\u001b[0m\n\u001b[1;32m    703\u001b[0m             \u001b[0mself\u001b[0m\u001b[0;34m.\u001b[0m\u001b[0m_parent_header\u001b[0m\u001b[0;34m,\u001b[0m\u001b[0;34m\u001b[0m\u001b[0;34m\u001b[0m\u001b[0m\n\u001b[0;32m--> 704\u001b[0;31m             \u001b[0mpassword\u001b[0m\u001b[0;34m=\u001b[0m\u001b[0;32mFalse\u001b[0m\u001b[0;34m,\u001b[0m\u001b[0;34m\u001b[0m\u001b[0;34m\u001b[0m\u001b[0m\n\u001b[0m\u001b[1;32m    705\u001b[0m         )\n\u001b[1;32m    706\u001b[0m \u001b[0;34m\u001b[0m\u001b[0m\n",
            "\u001b[0;32m/usr/local/lib/python3.6/dist-packages/ipykernel/kernelbase.py\u001b[0m in \u001b[0;36m_input_request\u001b[0;34m(self, prompt, ident, parent, password)\u001b[0m\n\u001b[1;32m    732\u001b[0m             \u001b[0;32mexcept\u001b[0m \u001b[0mKeyboardInterrupt\u001b[0m\u001b[0;34m:\u001b[0m\u001b[0;34m\u001b[0m\u001b[0;34m\u001b[0m\u001b[0m\n\u001b[1;32m    733\u001b[0m                 \u001b[0;31m# re-raise KeyboardInterrupt, to truncate traceback\u001b[0m\u001b[0;34m\u001b[0m\u001b[0;34m\u001b[0m\u001b[0;34m\u001b[0m\u001b[0m\n\u001b[0;32m--> 734\u001b[0;31m                 \u001b[0;32mraise\u001b[0m \u001b[0mKeyboardInterrupt\u001b[0m\u001b[0;34m\u001b[0m\u001b[0;34m\u001b[0m\u001b[0m\n\u001b[0m\u001b[1;32m    735\u001b[0m             \u001b[0;32melse\u001b[0m\u001b[0;34m:\u001b[0m\u001b[0;34m\u001b[0m\u001b[0;34m\u001b[0m\u001b[0m\n\u001b[1;32m    736\u001b[0m                 \u001b[0;32mbreak\u001b[0m\u001b[0;34m\u001b[0m\u001b[0;34m\u001b[0m\u001b[0m\n",
            "\u001b[0;31mKeyboardInterrupt\u001b[0m: "
          ]
        }
      ]
    },
    {
      "cell_type": "markdown",
      "metadata": {
        "id": "RWjfzsvAtBb5"
      },
      "source": [
        "# Leitura de arquivos e criação de séries booleanas"
      ]
    },
    {
      "cell_type": "code",
      "metadata": {
        "id": "zIKE43wwRzPr"
      },
      "source": [
        "candidatos_rj = pd.read_csv(\"consulta_cand_2020_RJ_def.csv\", sep=';', encoding='iso-8859-1')\n",
        "bens_candidatos_rj = pd.read_csv(\"bem_candidato_2020_BRASIL.csv\", sep=';', encoding='iso-8859-1')\n",
        "\n",
        "# Criando série booleanas para focar análise no município do Rio de Janeiro\n",
        "selecao_municipio=candidatos_rj['NM_UE']==\"RIO DE JANEIRO\"\n",
        "selecao_municipio_bens=bens_candidatos_rj['NM_UE']==\"RIO DE JANEIRO\"\n",
        "\n",
        "# Filtrando arquivo de bens com dados do município do Rio de Janeiro\n",
        "bens_dos_candidatos_municipio_rj=bens_candidatos_rj[selecao_municipio_bens]\n",
        "\n",
        "# Salvando o arquivo para trabalhos futuros\n",
        "#bens_dos_candidatos_municipio_rj.to_csv('bens_dos_candidatos_municipio_rj.csv',sep=';',index=False)\n"
      ],
      "execution_count": null,
      "outputs": []
    },
    {
      "cell_type": "code",
      "metadata": {
        "id": "x5DvQX5YTJux"
      },
      "source": [
        "bens_dos_candidatos_municipio_rj.head()\n",
        "#candidatos_rj.head()\n",
        "#bens_candidatos_rj.head()\n",
        "#candidatos_rj.head()"
      ],
      "execution_count": null,
      "outputs": []
    },
    {
      "cell_type": "markdown",
      "metadata": {
        "id": "rYaz9h0-rt9V"
      },
      "source": [
        "# N° de candidatos dos 20 maiores partidos do município do RJ"
      ]
    },
    {
      "cell_type": "code",
      "metadata": {
        "id": "1RlOQF_LeDJl"
      },
      "source": [
        "candidatos_municipio_rj=candidatos_rj[selecao_municipio]\n",
        "candidatos_municipio_rj['SG_PARTIDO'].value_counts().head(20).plot.bar(figsize=(10,5))\n",
        "plt.xticks(rotation=60)\n",
        "plt.ylim((50,85))\n",
        "plt.ylabel(\"N° de candidatos\", size = 16)\n",
        "\n",
        "plt.title(\"Os 20 partidos com maior n° de candidatos no município do RJ\", \n",
        "          fontdict={'family': 'serif', \n",
        "                    'weight': 'bold',\n",
        "                    'size': 16});"
      ],
      "execution_count": null,
      "outputs": []
    },
    {
      "cell_type": "markdown",
      "metadata": {
        "id": "0e4Xz7hjpJtz"
      },
      "source": [
        "# Candidato de maior idade e respectivo cargo a qual concorre"
      ]
    },
    {
      "cell_type": "code",
      "metadata": {
        "id": "Qcg8HN0QjMVB"
      },
      "source": [
        "idade=candidatos_municipio_rj[\"NR_IDADE_DATA_POSSE\"].max()\n",
        "selecao_candidade_de_maior_idade=candidatos_rj['NR_IDADE_DATA_POSSE']==idade\n",
        "cargo=candidatos_rj[selecao_candidade_de_maior_idade]['DS_CARGO']\n"
      ],
      "execution_count": null,
      "outputs": []
    },
    {
      "cell_type": "markdown",
      "metadata": {
        "id": "ZzFjYcKCqr9t"
      },
      "source": [
        "Vemos que na verdade são dois candidatos de 86 anos, um concorrendo como vereador e outro como vice-prefeito."
      ]
    },
    {
      "cell_type": "markdown",
      "metadata": {
        "id": "m1lUGdtJr9vb"
      },
      "source": [
        "# Distribuição de bens declarados por candidatos por partido"
      ]
    },
    {
      "cell_type": "code",
      "metadata": {
        "id": "8qWieefrvzu2"
      },
      "source": [
        "# Para essa análise baseei-me nas análises realizadas pelo Luis Moneda \n",
        "# Não possuo numa mesma tabela as colunas VG_BEM_CANDIDATO e SG_PARTIDO\n",
        "# Para resolver esse problema devo realizar um join entre os data frames candidatos_rj e bens_dos_candidatos_municipio_rj\n",
        "\n",
        "# Pegando somente as colunas que são de interesse de cada dataframe \n",
        "candidatos_rj_dados_fatiados = candidatos_rj[[\"SQ_CANDIDATO\", \"NM_URNA_CANDIDATO\", \"SG_PARTIDO\"]]\n",
        "bens_candidatos_dados_fatiados=bens_dos_candidatos_municipio_rj[[\"SQ_CANDIDATO\",'VR_BEM_CANDIDATO']]\n",
        "\n",
        "# Realizando o join utilizando como chave a coluna SQ_CANDIDATO\n",
        "concatenado_partido_bem_candidato = bens_candidatos_dados_fatiados.merge(candidatos_rj_dados_fatiados, on=\"SQ_CANDIDATO\")\n",
        "\n",
        "# Os dados da coluna VR_BEM_CANDIDATO estão no formato object. \n",
        "# Como esse dado será utilizado na construção do boxplot, transformo-o em tipo float  \n",
        "concatenado_partido_bem_candidato[\"VR_BEM_CANDIDATO\"] = concatenado_partido_bem_candidato[\"VR_BEM_CANDIDATO\"].apply(lambda x: x.split(\",\")[0]).astype(float)\n",
        "\n",
        "#concatenado_partido_bem_candidato.info()\n",
        "\n"
      ],
      "execution_count": null,
      "outputs": []
    },
    {
      "cell_type": "code",
      "metadata": {
        "id": "TxaOVzLgXrtb"
      },
      "source": [
        "# Tive problemas em criar uma tebela com o total de bens por candidato por partido\n",
        "# Por isso, tive que fatiar o dataframe obtido anteriormente\n",
        "# Utilizando o dataframe fatiado e o dataframe candidatos_rj adicionei novamente o dado SG_PARTIDO ao dataframe que utilizarei para construir o boxplot\n",
        "\n",
        "# Peguei todos os dados do ultimo dataframe obtido, excluindo a coluna de sigla do partido\n",
        "concatenado_bem_candidato=concatenado_partido_bem_candidato[['VR_BEM_CANDIDATO',\"NM_URNA_CANDIDATO\",\"SG_PARTIDO\"]]\n",
        "agrupado_valor_de_bens_por_candidato=concatenado_bem_candidato.groupby(['NM_URNA_CANDIDATO']).sum()\n",
        "\n",
        "concatenado_partido_bem_candidato_new = agrupado_valor_de_bens_por_candidato.merge(candidatos_rj_dados_fatiados, on=\"NM_URNA_CANDIDATO\")\n",
        "\n",
        "#concatenado_partido_bem_candidato_new"
      ],
      "execution_count": null,
      "outputs": []
    },
    {
      "cell_type": "code",
      "metadata": {
        "id": "Q1e-kRaEUsyr"
      },
      "source": [
        "# tratando outliers\n",
        "\n",
        "\n",
        "grupo_partido=concatenado_partido_bem_candidato_new.groupby('SG_PARTIDO')['VR_BEM_CANDIDATO']\n",
        "\n",
        "#calculando os quartis\n",
        "Q1=grupo_partido.quantile(.25) #Pegando o valor da posição 1/4 da distribuição de valor\n",
        "Q3=grupo_partido.quantile(.75) #Pegando o valor da posição 3/4 da distribuição de valor\n",
        "\n",
        "#intervalo entre os quartis\n",
        "IIQ=Q3-Q1\n",
        "limite_inferior=Q1-1.5*IIQ\n",
        "limite_superior=Q3+1.5*IIQ\n",
        "\n",
        "concatenado_new=pd.DataFrame()\n",
        "for partido in grupo_partido.groups.keys():\n",
        "    eh_tipo=concatenado_partido_bem_candidato_new['SG_PARTIDO']==partido #Criando uma série booleana\n",
        "    eh_dentro_limite=(concatenado_partido_bem_candidato_new['VR_BEM_CANDIDATO']>=limite_inferior[partido])&(concatenado_partido_bem_candidato_new['VR_BEM_CANDIDATO']<=limite_superior[partido]) \n",
        "    #criando outra série booleana que leva em consideração o tratamento de outliers \n",
        "    selecao=eh_tipo & eh_dentro_limite #concatenando as duas series booleanas acima\n",
        "    dados_selecao=concatenado_partido_bem_candidato_new[selecao]\n",
        "    concatenado_new=pd.concat([concatenado_new,dados_selecao]) # adicionando tabela ao dataframe em branco criado antes do for\n",
        "\n"
      ],
      "execution_count": null,
      "outputs": []
    },
    {
      "cell_type": "code",
      "metadata": {
        "id": "cwYP_ZT7Tdwl"
      },
      "source": [
        "\n",
        "fig, ax = plt.subplots(figsize=(10, 5))\n",
        "sns.boxplot(data=concatenado_new, y=\"VR_BEM_CANDIDATO\", x=\"SG_PARTIDO\",\n",
        "            order=['DEM',\"PSOL\", \"PDT\", \"MDB\", \"NOVO\"],palette=\"Blues\")\n",
        "\n",
        "\n",
        "ax.yaxis.set_major_formatter(ticker.FuncFormatter(human_format))\n",
        "plt.ylim([0, 1500000])\n",
        "plt.title(\"Distribuição dos bens declarados por candidatos - Município do Rio de Janeiro\", fontsize=15, pad=16)\n",
        "plt.xlabel(\"Partido\",size = 15)\n",
        "plt.ylabel(\"Valor dos bens declarados\",size = 15)\n",
        "\n",
        "plt.show()"
      ],
      "execution_count": null,
      "outputs": []
    },
    {
      "cell_type": "markdown",
      "metadata": {
        "id": "YYznCvPPvuet"
      },
      "source": [
        "# Distribuição de grau de escolaridade por partido"
      ]
    },
    {
      "cell_type": "markdown",
      "metadata": {
        "id": "sIWS1HhxzhWi"
      },
      "source": [
        "# Situação da candidatura\n"
      ]
    },
    {
      "cell_type": "code",
      "metadata": {
        "id": "iZvNC0CMzjpm"
      },
      "source": [
        "selecao_situacao=candidatos_rj['DS_SITUACAO_CANDIDATURA']==\"INAPTO\"\n",
        "situacao=candidatos_municipio_rj[selecao_situacao]\n",
        "\n",
        "quantidade_total_de_candidatos=candidatos_municipio_rj.shape[0]\n",
        "quantidade_de_candidatos_inaptos=situacao.shape[0]\n",
        "\n",
        "print(\"{} candidatos de um total de {} estão inaptos a concorrer.\". format(quantidade_de_candidatos_inaptos,quantidade_total_de_candidatos))"
      ],
      "execution_count": null,
      "outputs": []
    },
    {
      "cell_type": "markdown",
      "metadata": {
        "id": "zD3ar6if3DjF"
      },
      "source": [
        "Temos cerca de 3,7% de candidaturas inaptas no munício do Rio de Janeiro."
      ]
    },
    {
      "cell_type": "code",
      "metadata": {
        "id": "raVr1Ixy0Qh5"
      },
      "source": [
        "grafico4=situacao['SG_PARTIDO'].value_counts().plot.bar(figsize=(10,5))\n",
        "plt.xticks(rotation=80)\n",
        "plt.ylabel(\"N° de candidatos inaptos\", size = 16)\n",
        "\n",
        "plt.title(\"N° de candidatos inaptos por partidos\", \n",
        "          fontdict={'family': 'serif', \n",
        "                    'weight': 'bold',\n",
        "                    'size': 16});\n",
        "\n",
        "grafico4;                    "
      ],
      "execution_count": null,
      "outputs": []
    },
    {
      "cell_type": "code",
      "metadata": {
        "id": "2WTRh0kq2AKu"
      },
      "source": [
        ""
      ],
      "execution_count": null,
      "outputs": []
    },
    {
      "cell_type": "markdown",
      "metadata": {
        "id": "SXa1eBkVkLUj"
      },
      "source": [
        "# Organizando Plots para publicação"
      ]
    },
    {
      "cell_type": "code",
      "metadata": {
        "id": "29qVjM32ilbR"
      },
      "source": [
        "area=plt.figure()\n",
        "\n",
        "g1=area.add_subplot(2,2,1)\n",
        "g2=area.add_subplot(2,2,2)\n",
        "g3=area.add_subplot(2,2,3)\n",
        "g4=area.add_subplot(2,2,4)\n",
        "\n",
        "\n",
        "g4=grafico4.show"
      ],
      "execution_count": null,
      "outputs": []
    },
    {
      "cell_type": "markdown",
      "metadata": {
        "id": "-EQpJrrtilrp"
      },
      "source": [
        "# Referências e Links"
      ]
    },
    {
      "cell_type": "code",
      "metadata": {
        "id": "qI3g7FcdioZ1"
      },
      "source": [
        "Pesquisas Eleitorais: https://www.tse.jus.br/eleicoes/estatisticas/repositorio-de-dados-eleitorais-1/repositorio-de-dados-eleitorais\n",
        "Página Kaggle com datasets do Luis Moneda: https://www.kaggle.com/lgmoneda/brazil-elections-2020"
      ],
      "execution_count": null,
      "outputs": []
    }
  ]
}